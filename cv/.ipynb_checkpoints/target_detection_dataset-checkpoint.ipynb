{
 "cells": [
  {
   "cell_type": "markdown",
   "id": "feecc512-51df-4be8-a249-4c1b82b82324",
   "metadata": {},
   "source": [
    "## 13.6. 目标检测数据集"
   ]
  },
  {
   "cell_type": "markdown",
   "id": "5cb851cc-27a0-4ef3-a433-73d2b169f234",
   "metadata": {},
   "source": [
    "### 13.6.1. 下载数据集"
   ]
  },
  {
   "cell_type": "code",
   "execution_count": 1,
   "id": "4f8bfceb-0647-44b1-9505-a5e4214c71db",
   "metadata": {},
   "outputs": [],
   "source": [
    "import os\n",
    "import pandas as pd\n",
    "import torch\n",
    "import torchvision\n",
    "from d2l import torch as d2l"
   ]
  },
  {
   "cell_type": "code",
   "execution_count": 3,
   "id": "134a482c-646f-4c88-86a3-8968dc2ec063",
   "metadata": {},
   "outputs": [],
   "source": [
    "d2l.DATA_HUB['banana-detection'] = (d2l.DATA_URL + 'banana-detection.zip', '5de26c8fce5ccdea9f91267273464dc968d20d72')"
   ]
  },
  {
   "cell_type": "markdown",
   "id": "bdacfa73-c991-45f2-9179-812569f48641",
   "metadata": {},
   "source": [
    "### 13.6.2. 读取数据集"
   ]
  },
  {
   "cell_type": "code",
   "execution_count": null,
   "id": "b59a0ef6-54d6-4e83-b32f-3b8627b40a57",
   "metadata": {},
   "outputs": [],
   "source": []
  },
  {
   "cell_type": "code",
   "execution_count": 6,
   "id": "eeda5a0c-e5b1-4ee3-a3da-3dc2c14388b1",
   "metadata": {},
   "outputs": [],
   "source": [
    "data_dir = d2l.download_extract('banana-detection')"
   ]
  },
  {
   "cell_type": "code",
   "execution_count": 7,
   "id": "eacc171d-4786-4b72-b291-a92fa5058c04",
   "metadata": {},
   "outputs": [
    {
     "data": {
      "text/plain": [
       "'../data\\\\banana-detection'"
      ]
     },
     "execution_count": 7,
     "metadata": {},
     "output_type": "execute_result"
    }
   ],
   "source": [
    "data_dir"
   ]
  },
  {
   "cell_type": "code",
   "execution_count": 24,
   "id": "ffa36a76-9a64-4a72-9228-ea1eda23cb68",
   "metadata": {},
   "outputs": [],
   "source": [
    "#@save\n",
    "def read_data_bananas(is_train=True):\n",
    "    \"\"\"读取香蕉检测数据集中的图像和标签\"\"\"\n",
    "    data_dir = d2l.download_extract('banana-detection')\n",
    "    csv_fname = os.path.join(data_dir, 'bananas_train' if is_train else 'bananas_val', 'label.csv')\n",
    "    csv_data = pd.read_csv(csv_fname)\n",
    "    csv_data = csv_data.set_index('img_name')\n",
    "    images, targets = [], []\n",
    "    for img_name, target in csv_data.iterrows():  \n",
    "        # img_name: num.png,  \n",
    "        # target: type为Series， \n",
    "        # 值举例   label      0\n",
    "        #         xmin     183\n",
    "        #         ymin      63\n",
    "        #         xmax     241\n",
    "        #         ymax     112\n",
    "        #         Name: 0.png, dtype: int64\n",
    "        \n",
    "        images.append(\n",
    "            # shape: [3, 256, 256]\n",
    "            torchvision.io.read_image(os.path.join(data_dir, 'bananas_train' if is_train else 'bananas_val', 'images', f'{img_name}'))\n",
    "        )\n",
    "        \n",
    "        # 这里的target包含（类别，左上角x，左上角y，右下角x，右下角y），\n",
    "        # 其中所有图像都具有相同的香蕉类（索引为0）\n",
    "        targets.append(list(target))\n",
    "    # images: list, element_shape: [3, 256, 256]\n",
    "    # torch.tensor(targets).unsqueeze(1)/256: shape, [100 or 1000, 1, 5]\n",
    "    return images, torch.tensor(targets).unsqueeze(1) / 256 "
   ]
  },
  {
   "cell_type": "code",
   "execution_count": null,
   "id": "2e0c7774-a30b-4c9e-8e4f-6072e114795c",
   "metadata": {},
   "outputs": [],
   "source": []
  },
  {
   "cell_type": "code",
   "execution_count": null,
   "id": "aab3347c-f67e-47e5-b4ec-78128198c491",
   "metadata": {},
   "outputs": [],
   "source": []
  },
  {
   "cell_type": "code",
   "execution_count": null,
   "id": "d2b1441e-f6d5-433a-aa96-71fe742a428a",
   "metadata": {},
   "outputs": [],
   "source": []
  },
  {
   "cell_type": "code",
   "execution_count": null,
   "id": "04d6c026-4b07-4616-af13-600047d9a6ca",
   "metadata": {},
   "outputs": [],
   "source": []
  },
  {
   "cell_type": "code",
   "execution_count": null,
   "id": "2ced67f3-0aa8-4445-b409-94738451a2f7",
   "metadata": {},
   "outputs": [],
   "source": []
  },
  {
   "cell_type": "code",
   "execution_count": null,
   "id": "12dcf897-9515-4227-94ad-e09cd10d71c1",
   "metadata": {},
   "outputs": [],
   "source": []
  },
  {
   "cell_type": "code",
   "execution_count": null,
   "id": "22160ef5-42c4-4319-bda0-8c7f27de1608",
   "metadata": {},
   "outputs": [],
   "source": []
  },
  {
   "cell_type": "code",
   "execution_count": null,
   "id": "be0e2f1c-43ed-4508-a219-da74a0b9627f",
   "metadata": {},
   "outputs": [],
   "source": []
  },
  {
   "cell_type": "code",
   "execution_count": null,
   "id": "f30f6247-0a0c-4d61-836e-2cdfa470d6b7",
   "metadata": {},
   "outputs": [],
   "source": []
  }
 ],
 "metadata": {
  "kernelspec": {
   "display_name": "Python 3 (ipykernel)",
   "language": "python",
   "name": "python3"
  },
  "language_info": {
   "codemirror_mode": {
    "name": "ipython",
    "version": 3
   },
   "file_extension": ".py",
   "mimetype": "text/x-python",
   "name": "python",
   "nbconvert_exporter": "python",
   "pygments_lexer": "ipython3",
   "version": "3.11.10"
  }
 },
 "nbformat": 4,
 "nbformat_minor": 5
}
